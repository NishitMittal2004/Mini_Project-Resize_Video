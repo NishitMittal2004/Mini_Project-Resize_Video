{
  "nbformat": 4,
  "nbformat_minor": 0,
  "metadata": {
    "colab": {
      "provenance": [],
      "authorship_tag": "ABX9TyORluKtQb3ObK0nNIWAjsIe",
      "include_colab_link": true
    },
    "kernelspec": {
      "name": "python3",
      "display_name": "Python 3"
    },
    "language_info": {
      "name": "python"
    }
  },
  "cells": [
    {
      "cell_type": "markdown",
      "metadata": {
        "id": "view-in-github",
        "colab_type": "text"
      },
      "source": [
        "<a href=\"https://colab.research.google.com/github/NishitMittal2004/Mini_Project-Resize_Video/blob/main/Mini_Project_Resize_Video.ipynb\" target=\"_parent\"><img src=\"https://colab.research.google.com/assets/colab-badge.svg\" alt=\"Open In Colab\"/></a>"
      ]
    },
    {
      "cell_type": "markdown",
      "source": [
        "# **Mini Project - \"Resize the Colored Video to 50% (smaller)\" using OpenCV**\n",
        "---\n"
      ],
      "metadata": {
        "id": "8C5jCI2AmAvN"
      }
    },
    {
      "cell_type": "code",
      "execution_count": 5,
      "metadata": {
        "colab": {
          "base_uri": "https://localhost:8080/"
        },
        "id": "LVTw7d3KmAE1",
        "outputId": "23bc545a-2713-4631-c824-c5ac08e3069b"
      },
      "outputs": [
        {
          "output_type": "stream",
          "name": "stdout",
          "text": [
            "Original Video dimensions: 640x440\n",
            "Resized Video dimensions: 320x220\n"
          ]
        }
      ],
      "source": [
        "import cv2\n",
        "\n",
        "def resize_frame(frame):\n",
        "    # Get the current frame dimensions\n",
        "    height, width = frame.shape[:2]\n",
        "\n",
        "    # Calculate the new dimensions\n",
        "    new_width = int(width * 0.5)\n",
        "    new_height = int(height * 0.5)\n",
        "\n",
        "    # Resize the frame to the new dimensions\n",
        "    resized_frame = cv2.resize(frame, (new_width, new_height), interpolation=cv2.INTER_AREA)\n",
        "\n",
        "    return resized_frame\n",
        "\n",
        "\n",
        "input_file = '/content/Original_Video.mp4'\n",
        "output_file = '/content/Output_Resized.mp4'\n",
        "\n",
        "# Open the input video file\n",
        "video = cv2.VideoCapture(input_file)\n",
        "\n",
        "# Get the video's width, height, and frames per second (fps)\n",
        "width = int(video.get(cv2.CAP_PROP_FRAME_WIDTH))\n",
        "height = int(video.get(cv2.CAP_PROP_FRAME_HEIGHT))\n",
        "fps = video.get(cv2.CAP_PROP_FPS)\n",
        "\n",
        "# Define the codec for the output video\n",
        "fourcc = cv2.VideoWriter_fourcc(*'mp4v')\n",
        "\n",
        "# Calculate the new dimensions for the resized video\n",
        "new_width = int(width * 0.5)\n",
        "new_height = int(height * 0.5)\n",
        "\n",
        "# Create a VideoWriter object to save the output video\n",
        "output = cv2.VideoWriter(output_file, fourcc, fps, (new_width, new_height), isColor=True)\n",
        "\n",
        "# Process each frame of the input video\n",
        "while video.isOpened():\n",
        "    # Read the current frame\n",
        "    ret, frame = video.read()\n",
        "\n",
        "    if ret:\n",
        "        # Resize the frame to 50% smaller\n",
        "        resized_frame = resize_frame(frame)\n",
        "\n",
        "        # Write the resized frame to the output video\n",
        "        output.write(resized_frame)\n",
        "\n",
        "        # Exit if the 'q' key is pressed\n",
        "        if cv2.waitKey(1) & 0xFF == ord('q'):\n",
        "            break\n",
        "    else:\n",
        "        break\n",
        "\n",
        "# Confirmation\n",
        "print(f\"Original Video dimensions: {width}x{height}\")\n",
        "print(f\"Resized Video dimensions: {new_width}x{new_height}\")"
      ]
    }
  ]
}